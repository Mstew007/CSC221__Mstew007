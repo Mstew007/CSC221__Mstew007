{
  "nbformat": 4,
  "nbformat_minor": 0,
  "metadata": {
    "colab": {
      "provenance": [],
      "authorship_tag": "ABX9TyN+Elkec3vKJ2WjMhx8XlQ7",
      "include_colab_link": true
    },
    "kernelspec": {
      "name": "python3",
      "display_name": "Python 3"
    },
    "language_info": {
      "name": "python"
    }
  },
  "cells": [
    {
      "cell_type": "markdown",
      "metadata": {
        "id": "view-in-github",
        "colab_type": "text"
      },
      "source": [
        "<a href=\"https://colab.research.google.com/github/Mstew007/CSC221__Mstew007/blob/main/Assignment18.ipynb\" target=\"_parent\"><img src=\"https://colab.research.google.com/assets/colab-badge.svg\" alt=\"Open In Colab\"/></a>"
      ]
    },
    {
      "cell_type": "code",
      "execution_count": null,
      "metadata": {
        "id": "5TjcOWXXNfVQ"
      },
      "outputs": [],
      "source": [
        "#Matt Stewart\n",
        "#Assignment 18\n",
        "#2.1 literals\n",
        "h_value = 0x3a27\n",
        "b_value = 0b110101111\n",
        "d_value = 30\n",
        "\n",
        "result = h_value + b_value - d_value\n",
        "\n",
        "print(\"Result:\", result)\n"
      ]
    },
    {
      "cell_type": "code",
      "source": [
        "#2.2\n",
        "file1 = open('small_file.txt', 'r')\n",
        "while True:\n",
        "    line = file1.readline()\n",
        "    if not line:\n",
        "        break\n",
        "    print(line)\n",
        "file1.close()\n"
      ],
      "metadata": {
        "id": "-ZXBgI7yNjWC"
      },
      "execution_count": null,
      "outputs": []
    },
    {
      "cell_type": "code",
      "source": [
        "# 2.3 Standard Operators\n",
        "x = 7\n",
        "y = 3\n",
        "module = 10\n",
        "\n",
        "result = pow(x, y, module)\n",
        "print(f\"{x}^{y} mod {module} = {result}\")\n",
        "\n",
        "\n",
        "x = 14.82\n",
        "\n",
        "rounded_positive = round(x, 2)\n",
        "print(f\"Rounded to 2 decimal places (n=2): {rounded_positive}\")\n",
        "\n",
        "rounded_negative = round(x, -2)\n",
        "print(f\"Rounded to the nearest hundred (n=-2): {rounded_negative}\")\n"
      ],
      "metadata": {
        "id": "mDSrz1sSQjTL"
      },
      "execution_count": null,
      "outputs": []
    },
    {
      "cell_type": "code",
      "source": [
        "# 2.4 In-Place Assignment\n",
        "a = [1, 2, 3]\n",
        "a += [7, 6, 5]\n",
        "\n",
        "a = [1, 2, 3]\n",
        "a *= 4\n"
      ],
      "metadata": {
        "id": "L9zQGFXETMrK"
      },
      "execution_count": 10,
      "outputs": []
    },
    {
      "cell_type": "code",
      "source": [
        "# 2.5 Object Comparison\n",
        "list1 = [1, 2, 3]\n",
        "list2 = [2, 4, 6]\n",
        "\n",
        "print(list1 == list2)\n",
        "print(list1 is list2)\n",
        "\n",
        "x = 21\n",
        "y = 23\n",
        "\n",
        "print(x == y)\n",
        "print(x is y)\n",
        "\n",
        "str1 = \"hi\"\n",
        "str2 = \"yo\"\n",
        "\n",
        "print(str1 == str2)\n",
        "print(str1 is str2)\n"
      ],
      "metadata": {
        "id": "rQvZhdXMTj1j"
      },
      "execution_count": null,
      "outputs": []
    },
    {
      "cell_type": "code",
      "source": [
        "# 2.7 Boolean Expressions and Truth\n",
        "# Why does the code below only output 'Ned'?\n",
        "def ned():\n",
        "    print('Ned')\n",
        "    return False\n",
        "def lecky():\n",
        "    print(\"lecky\")\n",
        "    return False;\n",
        "if ned() and lecky():\n",
        "    print('wrote this')\n",
        "\n",
        "# because python does not look at the 2nd part of the code because \"ned\" is being returned then the code stops after that\n"
      ],
      "metadata": {
        "id": "AXXLoG6dXdlc"
      },
      "execution_count": null,
      "outputs": []
    },
    {
      "cell_type": "code",
      "source": [
        "# 2.8 Conditional Expressions\n",
        "import random\n",
        "random.seed(42)\n",
        "\n",
        "import random\n",
        "\n",
        "def above_or_below():\n",
        "    x = random.randint(1, 100)\n",
        "    y = -1 if x < 50 else 1\n",
        "    return y\n",
        "\n",
        "\n",
        "for i in range(10):\n",
        "    print(format(above_or_below(),\"+d\"))"
      ],
      "metadata": {
        "id": "JyzT3KcqYNul"
      },
      "execution_count": null,
      "outputs": []
    },
    {
      "cell_type": "code",
      "source": [
        "# 2.9 Iterables\n",
        "list1 = [1, 2, 3]\n",
        "list2 = [2, 4, 6]\n",
        "\n",
        "print(\"Lists: \")\n",
        "print(list1 == list2)\n",
        "print(list1 is list2)\n",
        "\n",
        "tuple1 = (1, 2, 3)\n",
        "tuple2 = (2, 4, 6)\n",
        "\n",
        "print(\"\\nTuples: \")\n",
        "print(tuple1 == tuple2)\n",
        "print(tuple1 is tuple2)\n",
        "\n",
        "set1 = {1, 2, 3}\n",
        "set2 = {2, 4, 6}\n",
        "\n",
        "print(\"\\nSets: \")\n",
        "print(set1 == set2)\n",
        "print(set1 is set2)\n",
        "\n",
        "dict1 = {'a': 1, 'b': 2, 'c': 3}\n",
        "dict2 = {'a': 1, 'b': 2, 'c': 3}\n",
        "\n",
        "print(\"\\nDictionaries: \")\n",
        "print(dict1 == dict2)\n",
        "print(dict1 is dict2)\n",
        "\n",
        "str1 = \"hi\"\n",
        "str2 = \"hi\"\n",
        "\n",
        "print(\"\\nStrings: \")\n",
        "print(str1 == str2)\n",
        "print(str1 is str2)\n"
      ],
      "metadata": {
        "id": "Zz8dDNS3YhCM"
      },
      "execution_count": null,
      "outputs": []
    },
    {
      "cell_type": "code",
      "source": [
        "# 2.10 Operations on Sequences\n",
        "a = [0, 1, 2, 3, 4, 5, 6, 7, 8, 9]\n",
        "print(a[2:5])"
      ],
      "metadata": {
        "colab": {
          "base_uri": "https://localhost:8080/"
        },
        "id": "QthQp9NtZdMy",
        "outputId": "6ac0946b-449d-47a4-a57c-1543ed9a70fc"
      },
      "execution_count": 30,
      "outputs": [
        {
          "output_type": "stream",
          "name": "stdout",
          "text": [
            "[2, 3, 4]\n"
          ]
        }
      ]
    },
    {
      "cell_type": "code",
      "source": [
        "# 2.11 Operations on Mutable Sequences\n",
        "integers = list(range(1, 2000000))\n",
        "\n",
        "start_index = (len(integers) - 1000000) // 2\n",
        "end_index = start_index + 1000000\n",
        "\n",
        "integers[start_index:end_index] = ['MiddleStuff'] * 1000000\n",
        "\n",
        "print(integers[999995:1000005])\n",
        "print(\"Length: \", len(integers))"
      ],
      "metadata": {
        "id": "HnH8PMuoZwpl"
      },
      "execution_count": null,
      "outputs": []
    },
    {
      "cell_type": "code",
      "source": [
        "# 2.12 Operations on Sets\n",
        "import random\n",
        "random.seed(42)\n",
        "\n",
        "rand1 = [random.randint(1,1000) for i in range(1000)]\n",
        "rand2 = [random.randint(1,1000) for i in range(1000)]\n",
        "set1 = set(rand1)\n",
        "set2 = set(rand2)\n",
        "set3 = set1 | set2\n",
        "set4 = set1 & set2\n",
        "print(len(set1), len(set2), len(set3), len(set4))"
      ],
      "metadata": {
        "colab": {
          "base_uri": "https://localhost:8080/"
        },
        "id": "vBClqCE2aVuF",
        "outputId": "bdb010fe-211b-454c-bad9-4965d0a4a0e2"
      },
      "execution_count": 35,
      "outputs": [
        {
          "output_type": "stream",
          "name": "stdout",
          "text": [
            "637 649 884 402\n"
          ]
        }
      ]
    },
    {
      "cell_type": "code",
      "source": [
        "# 2.14 List, Set, and Dictionary Comprehensions\n",
        "import math\n",
        "\n",
        "def factorial(n):\n",
        "    fact = 1\n",
        "    for i in range(1, n+1):\n",
        "        fact *= i\n",
        "    return fact\n",
        "\n",
        "fact_100 = [factorial(x) for x in range(101)]\n",
        "\n",
        "factorial_dict = {n: {'square': n**2, 'sqrt': math.sqrt(n)} for n in fact_100}\n",
        "\n",
        "print(factorial_dict)\n",
        "\n"
      ],
      "metadata": {
        "id": "dki5B-GOagb0"
      },
      "execution_count": null,
      "outputs": []
    },
    {
      "cell_type": "code",
      "source": [
        "# 2.15 Generator Expression\n",
        "with open('example.txt', 'r') as file:\n",
        "    for line in file:\n",
        "        if line.startswith('#'):\n",
        "            print(line.strip())"
      ],
      "metadata": {
        "id": "HAwOTrnjcfZp"
      },
      "execution_count": null,
      "outputs": []
    }
  ]
}