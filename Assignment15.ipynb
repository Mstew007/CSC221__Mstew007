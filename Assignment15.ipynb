{
  "nbformat": 4,
  "nbformat_minor": 0,
  "metadata": {
    "colab": {
      "provenance": [],
      "authorship_tag": "ABX9TyOp06QFk8CQhCSW//fU/dXw",
      "include_colab_link": true
    },
    "kernelspec": {
      "name": "python3",
      "display_name": "Python 3"
    },
    "language_info": {
      "name": "python"
    }
  },
  "cells": [
    {
      "cell_type": "markdown",
      "metadata": {
        "id": "view-in-github",
        "colab_type": "text"
      },
      "source": [
        "<a href=\"https://colab.research.google.com/github/Mstew007/CSC221__Mstew007/blob/main/Assignment15.ipynb\" target=\"_parent\"><img src=\"https://colab.research.google.com/assets/colab-badge.svg\" alt=\"Open In Colab\"/></a>"
      ]
    },
    {
      "cell_type": "code",
      "execution_count": 12,
      "metadata": {
        "colab": {
          "base_uri": "https://localhost:8080/",
          "height": 331
        },
        "id": "bHI4gfzcZdaP",
        "outputId": "f59bca0a-2160-44f9-f793-ed11675ee6dc"
      },
      "outputs": [
        {
          "output_type": "stream",
          "name": "stderr",
          "text": [
            "E\n",
            "======================================================================\n",
            "ERROR: /root/ (unittest.loader._FailedTest)\n",
            "----------------------------------------------------------------------\n",
            "AttributeError: module '__main__' has no attribute '/root/'\n",
            "\n",
            "----------------------------------------------------------------------\n",
            "Ran 1 test in 0.002s\n",
            "\n",
            "FAILED (errors=1)\n"
          ]
        },
        {
          "output_type": "error",
          "ename": "SystemExit",
          "evalue": "ignored",
          "traceback": [
            "An exception has occurred, use %tb to see the full traceback.\n",
            "\u001b[0;31mSystemExit\u001b[0m\u001b[0;31m:\u001b[0m True\n"
          ]
        },
        {
          "output_type": "stream",
          "name": "stderr",
          "text": [
            "/usr/local/lib/python3.10/dist-packages/IPython/core/interactiveshell.py:3561: UserWarning: To exit: use 'exit', 'quit', or Ctrl-D.\n",
            "  warn(\"To exit: use 'exit', 'quit', or Ctrl-D.\", stacklevel=1)\n"
          ]
        }
      ],
      "source": [
        "# Matthew Stewart\n",
        "# Assignment 15\n",
        "\n",
        "#11.1\n",
        "def city_country(city, country):\n",
        "    return(city.title() + \"Saratoga, New York \" + country.title())\n",
        "\n",
        "import unittest\n",
        "\n",
        "class CitiesTestCase(unittest.TestCase):\n",
        "\n",
        "    def test_city_country(self):\n",
        "        Saratoga_newyork = city_country('Saratoga', 'New York')\n",
        "        self.assertEqual(Saratoga_newyork, 'Saratoga, New York')\n",
        "\n",
        "unittest.main()\n",
        "\n",
        "#11.2\n",
        "import unittest\n",
        "\n",
        "from city_functions import city_country\n",
        "\n",
        "class CitiesTestCase(unittest.TestCase):\n",
        "\n",
        "    def test_city_country(self):\n",
        "        Saratoga_newyork = city_country('Saratoga', 'New York')\n",
        "        self.assertEqual(Saratoga_newyork, 'Saratoga, New York')\n",
        "\n",
        "    def test_city_country_population(self):\n",
        "        \"\"\"Can I include a population argument?\"\"\"\n",
        "        Saratoga_newyork = city_country('Saratoga', 'New York', population=123456)\n",
        "        self.assertEqual(Saratoga_newyork, 'Saratoga, New York - population 123456')\n",
        "\n",
        "unittest.main()\n",
        "\n",
        "# main.py\n",
        "import my_funcs as mf\n",
        "\n",
        "x1 = mf.f1(3, 5)\n",
        "x2 = mf.f2(3, 5)\n",
        "\n",
        "print(f'{x1=}')\n",
        "print(f'{x2=}')\n",
        "\n",
        "# my_func.py\n",
        "import random as r\n",
        "\n",
        "def f1(a, b):\n",
        "    x = a + b\n",
        "    return x if (r.randint(1,1000)<1000) else x-1\n",
        "\n",
        "def f2(a, b):\n",
        "    x = a * b\n",
        "    return x\n",
        "\n",
        "if __name__ == '__main__':\n",
        "    print('Basic in-file test')\n",
        "    assert f1(2,3) == 5, 'f1 failed'\n",
        "    assert f2(2,3) == 6, 'f2 failed'\n",
        "    print('PASSED!')\n",
        "\n",
        "# test_complex.py\n",
        "import my_funcs as mf\n",
        "import random as r\n",
        "\n",
        "def test_f1_simple():\n",
        "    for i in range(10000):\n",
        "        n1 = r.randint(1,1000)\n",
        "        assert mf.f1(n1, 5) == n1+5\n",
        "        assert mf.f1(2*n1, 6) == 2*n1 + 6\n",
        "\n",
        "def test_f2_simple():\n",
        "    for i in range(10000):\n",
        "        assert mf.f2(i, i) == i**2\n",
        "        assert mf.f2(3, i) == 3 * i\n",
        "\n",
        "# test_simple.py\n",
        "import my_funcs as mf\n",
        "\n",
        "def test_f1_simple():\n",
        "    assert mf.f1(3, 5) == 8\n",
        "    assert mf.f1(3, 6) == 9\n",
        "\n",
        "def test_f2_simple():\n",
        "    assert mf.f2(3,5) == 15\n",
        "    assert mf.f2(3, 11) == 33\n",
        "\n"
      ]
    }
  ]
}