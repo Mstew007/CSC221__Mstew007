{
  "nbformat": 4,
  "nbformat_minor": 0,
  "metadata": {
    "colab": {
      "provenance": [],
      "authorship_tag": "ABX9TyNggGXDHjlkB1DFij0VIkGp",
      "include_colab_link": true
    },
    "kernelspec": {
      "name": "python3",
      "display_name": "Python 3"
    },
    "language_info": {
      "name": "python"
    }
  },
  "cells": [
    {
      "cell_type": "markdown",
      "metadata": {
        "id": "view-in-github",
        "colab_type": "text"
      },
      "source": [
        "<a href=\"https://colab.research.google.com/github/Mstew007/CSC221__Mstew007/blob/main/CSC221_Mstew007.ipynb\" target=\"_parent\"><img src=\"https://colab.research.google.com/assets/colab-badge.svg\" alt=\"Open In Colab\"/></a>"
      ]
    },
    {
      "cell_type": "code",
      "execution_count": null,
      "metadata": {
        "colab": {
          "base_uri": "https://localhost:8080/"
        },
        "id": "a8ZyBX070dQt",
        "outputId": "7117ad7d-ed15-4b73-e819-61df4e361f90"
      },
      "outputs": [
        {
          "output_type": "stream",
          "name": "stdout",
          "text": [
            "CSC221 Fall 2023\n",
            "Matt Stewart\n",
            "Mstew007@plattsburgh.edu\n"
          ]
        }
      ],
      "source": [
        "print(\"CSC221 Fall 2023\")\n",
        "print(\"Matt Stewart\")\n",
        "print(\"Mstew007@plattsburgh.edu\")"
      ]
    }
  ]
}