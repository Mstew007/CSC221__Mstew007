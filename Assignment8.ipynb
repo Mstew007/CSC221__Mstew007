{
  "nbformat": 4,
  "nbformat_minor": 0,
  "metadata": {
    "colab": {
      "provenance": [],
      "authorship_tag": "ABX9TyM6qI0FI42ZrTbLXsMu1IxN",
      "include_colab_link": true
    },
    "kernelspec": {
      "name": "python3",
      "display_name": "Python 3"
    },
    "language_info": {
      "name": "python"
    }
  },
  "cells": [
    {
      "cell_type": "markdown",
      "metadata": {
        "id": "view-in-github",
        "colab_type": "text"
      },
      "source": [
        "<a href=\"https://colab.research.google.com/github/Mstew007/CSC221__Mstew007/blob/main/Assignment8.ipynb\" target=\"_parent\"><img src=\"https://colab.research.google.com/assets/colab-badge.svg\" alt=\"Open In Colab\"/></a>"
      ]
    },
    {
      "cell_type": "code",
      "source": [
        "d"
      ],
      "metadata": {
        "id": "UDL71MYFTnTv"
      },
      "execution_count": null,
      "outputs": []
    },
    {
      "cell_type": "code",
      "execution_count": 17,
      "metadata": {
        "colab": {
          "base_uri": "https://localhost:8080/",
          "height": 997
        },
        "id": "2pDTxnHMJ5Bq",
        "outputId": "5d559c56-41f0-4b4c-c4a1-e668598c0ce9"
      },
      "outputs": [
        {
          "output_type": "stream",
          "name": "stdout",
          "text": [
            "What car would you like? 1\n",
            "Let's see if you can afford a: 1.\n",
            "Insert any number: 1\n",
            "1 is not a multiple of 10.\n",
            "Enter your age?\n",
            "Enter 'done' when you are done. done\n",
            "Enter your age?\n",
            "Enter 'done' when you are done. done\n",
            "You have entered the maximum number of guests.\n",
            "your lettuce sandwich is not currently finished.\n",
            "your tuna sandwich is not currently finished.\n",
            "your cheese sandwich is not currently finished.\n",
            "your turkey sandwich is not currently finished.\n",
            "\n",
            "\n",
            "your lettuce sandwich is done.\n",
            "your tuna sandwich is done.\n",
            "your cheese sandwich is done.\n",
            "your turkey sandwich is done.\n",
            "Enter what kind of math you would like to do:\n",
            "Enter 'addition' for addition\n",
            "Enter 'subtract' for subtraction\n",
            "Enter 'multiply' for multiplication\n",
            "Enter 'divide' for division\n",
            "Enter 'quit' to quit\n",
            ": multiply\n",
            "Enter your first number: 4\n",
            "Enter your second number: 8\n",
            "Result: 32.0\n",
            "Enter what kind of math you would like to do:\n",
            "Enter 'addition' for addition\n",
            "Enter 'subtract' for subtraction\n",
            "Enter 'multiply' for multiplication\n",
            "Enter 'divide' for division\n",
            "Enter 'quit' to quit\n"
          ]
        },
        {
          "output_type": "error",
          "ename": "KeyboardInterrupt",
          "evalue": "ignored",
          "traceback": [
            "\u001b[0;31m---------------------------------------------------------------------------\u001b[0m",
            "\u001b[0;31mKeyboardInterrupt\u001b[0m                         Traceback (most recent call last)",
            "\u001b[0;32m<ipython-input-17-7a16cd72c133>\u001b[0m in \u001b[0;36m<cell line: 72>\u001b[0;34m()\u001b[0m\n\u001b[1;32m     78\u001b[0m     \u001b[0mprint\u001b[0m\u001b[0;34m(\u001b[0m\u001b[0;34m\"Enter 'quit' to quit\"\u001b[0m\u001b[0;34m)\u001b[0m\u001b[0;34m\u001b[0m\u001b[0;34m\u001b[0m\u001b[0m\n\u001b[1;32m     79\u001b[0m \u001b[0;34m\u001b[0m\u001b[0m\n\u001b[0;32m---> 80\u001b[0;31m     \u001b[0muser_input\u001b[0m \u001b[0;34m=\u001b[0m \u001b[0minput\u001b[0m\u001b[0;34m(\u001b[0m\u001b[0;34m\": \"\u001b[0m\u001b[0;34m)\u001b[0m\u001b[0;34m\u001b[0m\u001b[0;34m\u001b[0m\u001b[0m\n\u001b[0m\u001b[1;32m     81\u001b[0m \u001b[0;34m\u001b[0m\u001b[0m\n\u001b[1;32m     82\u001b[0m     \u001b[0;32mif\u001b[0m \u001b[0muser_input\u001b[0m \u001b[0;34m==\u001b[0m \u001b[0;34m\"quit\"\u001b[0m\u001b[0;34m:\u001b[0m\u001b[0;34m\u001b[0m\u001b[0;34m\u001b[0m\u001b[0m\n",
            "\u001b[0;32m/usr/local/lib/python3.10/dist-packages/ipykernel/kernelbase.py\u001b[0m in \u001b[0;36mraw_input\u001b[0;34m(self, prompt)\u001b[0m\n\u001b[1;32m    849\u001b[0m                 \u001b[0;34m\"raw_input was called, but this frontend does not support input requests.\"\u001b[0m\u001b[0;34m\u001b[0m\u001b[0;34m\u001b[0m\u001b[0m\n\u001b[1;32m    850\u001b[0m             )\n\u001b[0;32m--> 851\u001b[0;31m         return self._input_request(str(prompt),\n\u001b[0m\u001b[1;32m    852\u001b[0m             \u001b[0mself\u001b[0m\u001b[0;34m.\u001b[0m\u001b[0m_parent_ident\u001b[0m\u001b[0;34m,\u001b[0m\u001b[0;34m\u001b[0m\u001b[0;34m\u001b[0m\u001b[0m\n\u001b[1;32m    853\u001b[0m             \u001b[0mself\u001b[0m\u001b[0;34m.\u001b[0m\u001b[0m_parent_header\u001b[0m\u001b[0;34m,\u001b[0m\u001b[0;34m\u001b[0m\u001b[0;34m\u001b[0m\u001b[0m\n",
            "\u001b[0;32m/usr/local/lib/python3.10/dist-packages/ipykernel/kernelbase.py\u001b[0m in \u001b[0;36m_input_request\u001b[0;34m(self, prompt, ident, parent, password)\u001b[0m\n\u001b[1;32m    893\u001b[0m             \u001b[0;32mexcept\u001b[0m \u001b[0mKeyboardInterrupt\u001b[0m\u001b[0;34m:\u001b[0m\u001b[0;34m\u001b[0m\u001b[0;34m\u001b[0m\u001b[0m\n\u001b[1;32m    894\u001b[0m                 \u001b[0;31m# re-raise KeyboardInterrupt, to truncate traceback\u001b[0m\u001b[0;34m\u001b[0m\u001b[0;34m\u001b[0m\u001b[0m\n\u001b[0;32m--> 895\u001b[0;31m                 \u001b[0;32mraise\u001b[0m \u001b[0mKeyboardInterrupt\u001b[0m\u001b[0;34m(\u001b[0m\u001b[0;34m\"Interrupted by user\"\u001b[0m\u001b[0;34m)\u001b[0m \u001b[0;32mfrom\u001b[0m \u001b[0;32mNone\u001b[0m\u001b[0;34m\u001b[0m\u001b[0;34m\u001b[0m\u001b[0m\n\u001b[0m\u001b[1;32m    896\u001b[0m             \u001b[0;32mexcept\u001b[0m \u001b[0mException\u001b[0m \u001b[0;32mas\u001b[0m \u001b[0me\u001b[0m\u001b[0;34m:\u001b[0m\u001b[0;34m\u001b[0m\u001b[0;34m\u001b[0m\u001b[0m\n\u001b[1;32m    897\u001b[0m                 \u001b[0mself\u001b[0m\u001b[0;34m.\u001b[0m\u001b[0mlog\u001b[0m\u001b[0;34m.\u001b[0m\u001b[0mwarning\u001b[0m\u001b[0;34m(\u001b[0m\u001b[0;34m\"Invalid Message:\"\u001b[0m\u001b[0;34m,\u001b[0m \u001b[0mexc_info\u001b[0m\u001b[0;34m=\u001b[0m\u001b[0;32mTrue\u001b[0m\u001b[0;34m)\u001b[0m\u001b[0;34m\u001b[0m\u001b[0;34m\u001b[0m\u001b[0m\n",
            "\u001b[0;31mKeyboardInterrupt\u001b[0m: Interrupted by user"
          ]
        }
      ],
      "source": [
        "# Matthew Stewart\n",
        "# Assignment 8\n",
        "\n",
        "#7.1\n",
        "car = input(\"What car would you like? \")\n",
        "\n",
        "print(f\"Let's see if you can afford a: {car.title()}.\")\n",
        "\n",
        "#7.3\n",
        "number = input(\"Insert any number: \")\n",
        "number = int(number)\n",
        "\n",
        "if number % 10 == 0:\n",
        "    print(f\"{number} is a multiple of 10.\")\n",
        "else:\n",
        "    print(f\"{number} is not a multiple of 10.\")\n",
        "\n",
        "#7.5\n",
        "prompt = \"Enter your age?\"\n",
        "prompt += \"\\nEnter 'done' when you are done. \"\n",
        "\n",
        "while True:\n",
        "    age = input(prompt)\n",
        "    if age == 'done':\n",
        "        break\n",
        "    age = int(age)\n",
        "\n",
        "    if age < 3:\n",
        "        print(\"  Your ticket is free.\")\n",
        "    elif age < 13:\n",
        "        print(\"  Your ticket is $10.\")\n",
        "    else:\n",
        "        print(\"  Your ticket is $15.\")\n",
        "\n",
        "#7.6\n",
        "prompt = \"Enter your age?\"\n",
        "prompt += \"\\nEnter 'done' when you are done. \"\n",
        "\n",
        "input_count = 0\n",
        "\n",
        "while input_count < 4:\n",
        "    age = input(prompt)\n",
        "    if age == 'done':\n",
        "        break\n",
        "    age = int(age)\n",
        "\n",
        "    if age < 3:\n",
        "        print(\"  Your ticket is free.\")\n",
        "    elif age < 13:\n",
        "        print(\"  Your ticket is $10.\")\n",
        "    else:\n",
        "        print(\"  Your ticket is $15.\")\n",
        "\n",
        "    input_count += 1\n",
        "\n",
        "print(\"You have entered the maximum number of guests.\")\n",
        "\n",
        "#7.8\n",
        "sandwich_orders = ['turkey', 'cheese', 'tuna', 'lettuce']\n",
        "finished_sandwiches = []\n",
        "\n",
        "while sandwich_orders:\n",
        "    current_sandwich = sandwich_orders.pop()\n",
        "    print(f\"your {current_sandwich} sandwich is not currently finished.\")\n",
        "    finished_sandwiches.append(current_sandwich)\n",
        "\n",
        "print(\"\\n\")\n",
        "for sandwich in finished_sandwiches:\n",
        "    print(f\"your {sandwich} sandwich is done.\")\n",
        "\n",
        "#Basic Calculator\n",
        "while True:\n",
        "    print(\"Enter what kind of math you would like to do:\")\n",
        "    print(\"Enter 'addition' for addition\")\n",
        "    print(\"Enter 'subtract' for subtraction\")\n",
        "    print(\"Enter 'multiply' for multiplication\")\n",
        "    print(\"Enter 'divide' for division\")\n",
        "    print(\"Enter 'quit' to quit\")\n",
        "\n",
        "    user_input = input(\": \")\n",
        "\n",
        "    if user_input == \"quit\":\n",
        "        break\n",
        "    elif user_input in (\"addition\", \"subtract\", \"multiply\", \"divide\"):\n",
        "        num1 = float(input(\"Enter your first number: \"))\n",
        "        num2 = float(input(\"Enter your second number: \"))\n",
        "        if user_input == \"addition\":\n",
        "            result = num1 + num2\n",
        "        elif user_input == \"subtract\":\n",
        "            result = num1 - num2\n",
        "        elif user_input == \"multiply\":\n",
        "            result = num1 * num2\n",
        "        elif user_input == \"divide\":\n",
        "            if num2 != 0:\n",
        "                result = num1 / num2\n",
        "            else:\n",
        "                print(\"Error: you can't divide by zero\")\n",
        "                continue\n",
        "        print(\"Result: \" + str(result))\n",
        "    else:\n",
        "        print(\"Please Enter A Valid Number.\")\n"
      ]
    }
  ]
}