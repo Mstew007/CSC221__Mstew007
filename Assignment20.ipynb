{
  "nbformat": 4,
  "nbformat_minor": 0,
  "metadata": {
    "colab": {
      "provenance": [],
      "authorship_tag": "ABX9TyMtIbqzF5zfj2dTEH8T+E/L",
      "include_colab_link": true
    },
    "kernelspec": {
      "name": "python3",
      "display_name": "Python 3"
    },
    "language_info": {
      "name": "python"
    }
  },
  "cells": [
    {
      "cell_type": "markdown",
      "metadata": {
        "id": "view-in-github",
        "colab_type": "text"
      },
      "source": [
        "<a href=\"https://colab.research.google.com/github/Mstew007/CSC221__Mstew007/blob/main/Assignment20.ipynb\" target=\"_parent\"><img src=\"https://colab.research.google.com/assets/colab-badge.svg\" alt=\"Open In Colab\"/></a>"
      ]
    },
    {
      "cell_type": "code",
      "execution_count": 1,
      "metadata": {
        "colab": {
          "base_uri": "https://localhost:8080/"
        },
        "id": "ut7wW4SnqAFr",
        "outputId": "b9d0b9bf-6307-4c3a-da3d-20192651041b"
      },
      "outputs": [
        {
          "output_type": "stream",
          "name": "stdout",
          "text": [
            "19\n",
            "44.5\n",
            "asdfg13\n"
          ]
        }
      ],
      "source": [
        "# Matt Stewart\n",
        "# Assignment 20\n",
        "\n",
        "# 4.1 Essential Concepts\n",
        "\n",
        "a = 6\n",
        "b = 31.5\n",
        "c = 'asdfg'\n",
        "a1 = a.__add__(13)\n",
        "b1 = b.__add__(13)\n",
        "c1 = c.__add__('13')\n",
        "print(a1)\n",
        "print(b1)\n",
        "print(c1)\n",
        "\n",
        "# a - is an integer\n",
        "# b - is a floating number\n",
        "# c - is a string\n",
        "\n",
        "\n"
      ]
    },
    {
      "cell_type": "code",
      "source": [
        "# 4.5 str and repr\n",
        "from datetime import date\n",
        "d = date(2023, 11, 7)\n",
        "\n",
        "print(d)\n",
        "print(f'{d}')\n",
        "print(f'{d!s}')\n",
        "print(f'{d!r}')\n",
        "print(str(d))\n",
        "print(repr(d))\n",
        "print(d.__str__())\n",
        "print(d.__repr__())"
      ],
      "metadata": {
        "id": "n_L4IkfVqFOi"
      },
      "execution_count": 2,
      "outputs": []
    },
    {
      "cell_type": "code",
      "source": [
        "# 4.6 First-Class Objects\n",
        "\n",
        ">>> items = {'orange': 3, 'banana': 5, 'apple': 2, 'grape': 4}\n",
        "\n",
        ">>> items['banana']\n",
        "\n",
        ">>> items['grape'] = 4\n",
        "\n",
        ">>> items['apple'] = 2\n",
        "\n",
        ">>> del items['orange']\n",
        "\n",
        ">>> 'grape' in items\n",
        "\n",
        ">>> for key in items:\n",
        "...     print(key, items[key])\n",
        "# Output:\n",
        "# apple 2\n",
        "# banana 5\n",
        "# grape 4\n"
      ],
      "metadata": {
        "id": "n22eOjJHqIxA"
      },
      "execution_count": 3,
      "outputs": []
    },
    {
      "cell_type": "code",
      "source": [
        "# 4.7 Using None\n",
        "def integers(a, b):\n",
        "    if isinstance(a, int) and isinstance(b, int):\n",
        "        return a + b\n",
        "    else:\n",
        "        return None\n",
        "\n",
        "result_1 = integers(7, 9)\n",
        "print(result_1)\n",
        "\n",
        "result_2 = integers(6, '3')\n",
        "print(result_2)\n",
        "\n",
        "result_3 = integers('abc', 1)\n",
        "print(result_3)\n",
        "\n",
        "result_4 = integers(4, 1)\n",
        "print(result_4)\n",
        "\n"
      ],
      "metadata": {
        "id": "1IzJMrJUqJO7"
      },
      "execution_count": 4,
      "outputs": []
    },
    {
      "cell_type": "code",
      "source": [
        "# 4.9 Object Protocol\n",
        "class SimpleObject:\n",
        "    def __new__(cls, *args, **kwargs):\n",
        "        instance = super().__new__(cls)\n",
        "        print(f'__new__ called, instance created: {instance}')\n",
        "        return instance\n",
        "\n",
        "    def __init__(self, value):\n",
        "        self.value = value\n",
        "        print(f'__init__ called, instance initialized with value: {self.value}')\n",
        "\n",
        "    def __del__(self):\n",
        "        print(f'__del__ called, instance with value {self.value} is about to be destroyed')\n",
        "\n",
        "    def __repr__(self):\n",
        "        return (f'SimpleObject({self.value})')\n",
        "\n",
        "    def __str__(self):\n",
        "        return (f'SimpleObject with value: {self.value}')\n",
        "\n",
        "obj = SimpleObject(13)\n",
        "print(str(obj))\n",
        "print(repr(obj))\n",
        "\n",
        "del obj"
      ],
      "metadata": {
        "id": "PUnyq610qL9O"
      },
      "execution_count": null,
      "outputs": []
    }
  ]
}