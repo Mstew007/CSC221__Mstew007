{
  "nbformat": 4,
  "nbformat_minor": 0,
  "metadata": {
    "colab": {
      "provenance": [],
      "authorship_tag": "ABX9TyNbtw/dV7G4Z+kUcV/Vvxl4",
      "include_colab_link": true
    },
    "kernelspec": {
      "name": "python3",
      "display_name": "Python 3"
    },
    "language_info": {
      "name": "python"
    }
  },
  "cells": [
    {
      "cell_type": "markdown",
      "metadata": {
        "id": "view-in-github",
        "colab_type": "text"
      },
      "source": [
        "<a href=\"https://colab.research.google.com/github/Mstew007/CSC221__Mstew007/blob/main/Assignment10.ipynb\" target=\"_parent\"><img src=\"https://colab.research.google.com/assets/colab-badge.svg\" alt=\"Open In Colab\"/></a>"
      ]
    },
    {
      "cell_type": "code",
      "execution_count": null,
      "metadata": {
        "id": "waAAgeW_RlMD"
      },
      "outputs": [],
      "source": [
        "# Assignment 10\n",
        "# Matthew Stewart\n",
        "\n",
        "import functions\n",
        "\n",
        "def infinite_sum():\n",
        "    while True:\n",
        "        num1 = input(\"Enter your first number? ('quit' to end program): \")\n",
        "        if num1 == \"quit\":\n",
        "            break\n",
        "\n",
        "        num2 = input(\"Enter your second number? ('quit' to end program): \")\n",
        "        if num2 == \"quit\":\n",
        "            break\n",
        "\n",
        "        num1 = int(num1)\n",
        "        num2 = int(num2)\n",
        "        functions.sum_and_sorted(num1, num2)\n",
        "\n",
        "    return\n",
        "\n",
        "def makeShirt():\n",
        "    text = input(\"What text would you like to print in the shirt?: \")\n",
        "    size = input(\"What shirt size do you want to order? (For default size L, hit Enter)\\n\")\n",
        "\n",
        "    if size:\n",
        "        functions.make_shirt(text, size)\n",
        "    else:\n",
        "        functions.make_shirt(text)\n",
        "\n",
        "infinite_sum()\n",
        "print(\"\\n\")\n",
        "makeShirt()\n",
        "\n",
        "def sum_and_sorted(num1, num2=3.141592653589793, verbose=False):\n",
        "\n",
        "    total = num1 + num2\n",
        "    sort_num = sorted([num1, num2])\n",
        "\n",
        "    print(f\"The sum of {num1} and {num2} is: {total}\")\n",
        "\n",
        "    if verbose:\n",
        "        print(f\"\\nVerbose=True\\n{num1=}\\n{num2=}\\nSum: {total}\\nSorted: {sort_num}\")\n",
        "\n",
        "def make_shirt(text, size=\"L\"):\n",
        "  print(f\"The shirt size is: {size}\")\n",
        "  print(f\"The shirt will read: {text}\")\n",
        "\n",
        "if __name__ == '__main__':\n",
        "    make_shirt(\"I Love C++\", \"L\")\n",
        "    make_shirt(size=\"L\", text=\"Pizza Lover\")\n",
        "    make_shirt(\"I love Python\")\n",
        "    make_shirt(\"I love Python\", \"M\")\n",
        "    make_shirt(\"I love bugatti's\", \"XL\")\n",
        "\n",
        "# Part 2\n",
        "    sum_and_sorted(12)\n",
        "    sum_and_sorted(15, 3)\n",
        "    sum_and_sorted(6, 4, True)"
      ]
    }
  ]
}