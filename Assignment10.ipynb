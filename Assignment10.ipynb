{
  "nbformat": 4,
  "nbformat_minor": 0,
  "metadata": {
    "colab": {
      "provenance": [],
      "authorship_tag": "ABX9TyOyhxWPwR7CeXP2FDqW2rjI",
      "include_colab_link": true
    },
    "kernelspec": {
      "name": "python3",
      "display_name": "Python 3"
    },
    "language_info": {
      "name": "python"
    }
  },
  "cells": [
    {
      "cell_type": "markdown",
      "metadata": {
        "id": "view-in-github",
        "colab_type": "text"
      },
      "source": [
        "<a href=\"https://colab.research.google.com/github/Mstew007/CSC221__Mstew007/blob/main/Assignment10.ipynb\" target=\"_parent\"><img src=\"https://colab.research.google.com/assets/colab-badge.svg\" alt=\"Open In Colab\"/></a>"
      ]
    },
    {
      "cell_type": "code",
      "execution_count": 9,
      "metadata": {
        "colab": {
          "base_uri": "https://localhost:8080/"
        },
        "id": "waAAgeW_RlMD",
        "outputId": "17bc8cc9-021d-47bb-f281-1f661016ae09"
      },
      "outputs": [
        {
          "output_type": "stream",
          "name": "stdout",
          "text": [
            "The shirt size is: L\n",
            "The shirt will read: I Love C++\n",
            "The shirt size is: L\n",
            "The shirt will read: Pizza Lover\n",
            "The shirt size is: L\n",
            "The shirt will read: I love Python\n",
            "The shirt size is: M\n",
            "The shirt will read: I love Python\n",
            "The shirt size is: XL\n",
            "The shirt will read: I love bugatti's\n",
            "The sum of 12 and 3.141592653589793 is: 15.141592653589793\n",
            "The sum of 15 and 3 is: 18\n",
            "The sum of 6 and 4 is: 10\n",
            "\n",
            "Verbose=True\n",
            "num1=6\n",
            "num2=4\n",
            "Sum: 10\n",
            "Sorted: [4, 6]\n"
          ]
        }
      ],
      "source": [
        "# Assignment 10\n",
        "# Matthew Stewart\n",
        "\n",
        "def sum_and_sorted(num1, num2=3.141592653589793, verbose=False):\n",
        "\n",
        "    total = num1 + num2\n",
        "    sort_num = sorted([num1, num2])\n",
        "\n",
        "    print(f\"The sum of {num1} and {num2} is: {total}\")\n",
        "\n",
        "    if verbose:\n",
        "        print(f\"\\nVerbose=True\\n{num1=}\\n{num2=}\\nSum: {total}\\nSorted: {sort_num}\")\n",
        "\n",
        "def make_shirt(text, size=\"L\"):\n",
        "  print(f\"The shirt size is: {size}\")\n",
        "  print(f\"The shirt will read: {text}\")\n",
        "\n",
        "if __name__ == '__main__':\n",
        "    make_shirt(\"I Love C++\", \"L\")\n",
        "    make_shirt(size=\"L\", text=\"Pizza Lover\")\n",
        "    make_shirt(\"I love Python\")\n",
        "    make_shirt(\"I love Python\", \"M\")\n",
        "    make_shirt(\"I love bugatti's\", \"XL\")\n",
        "\n",
        "# Part 2\n",
        "    sum_and_sorted(12)\n",
        "    sum_and_sorted(15, 3)\n",
        "    sum_and_sorted(6, 4, True)"
      ]
    }
  ]
}