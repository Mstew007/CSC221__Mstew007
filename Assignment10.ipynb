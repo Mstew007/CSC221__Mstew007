{
  "nbformat": 4,
  "nbformat_minor": 0,
  "metadata": {
    "colab": {
      "provenance": [],
      "authorship_tag": "ABX9TyO4wVMbZMNfSbFIbYnhzrH9",
      "include_colab_link": true
    },
    "kernelspec": {
      "name": "python3",
      "display_name": "Python 3"
    },
    "language_info": {
      "name": "python"
    }
  },
  "cells": [
    {
      "cell_type": "markdown",
      "metadata": {
        "id": "view-in-github",
        "colab_type": "text"
      },
      "source": [
        "<a href=\"https://colab.research.google.com/github/Mstew007/CSC221__Mstew007/blob/main/Assignment10.ipynb\" target=\"_parent\"><img src=\"https://colab.research.google.com/assets/colab-badge.svg\" alt=\"Open In Colab\"/></a>"
      ]
    },
    {
      "cell_type": "code",
      "execution_count": 2,
      "metadata": {
        "colab": {
          "base_uri": "https://localhost:8080/"
        },
        "id": "waAAgeW_RlMD",
        "outputId": "da6d2e54-a4bc-419c-d0c3-2559215ca43f"
      },
      "outputs": [
        {
          "output_type": "stream",
          "name": "stdout",
          "text": [
            "Enter your first number? ('quit' to end program): quit\n",
            "\n",
            "\n",
            "What text would you like to print in the shirt?: bro\n",
            "What shirt size do you want to order? (For default size L, hit Enter)\n",
            "L\n",
            "The shirt size is: L\n",
            "The shirt will read: bro\n"
          ]
        }
      ],
      "source": [
        "# Assignment 10\n",
        "# Matthew Stewart\n",
        "\n",
        "import functions\n",
        "\n",
        "def infinite_sum():\n",
        "    while True:\n",
        "        num1 = input(\"Enter your first number? ('quit' to end program): \")\n",
        "        if num1 == \"quit\":\n",
        "            break\n",
        "\n",
        "        num2 = input(\"Enter your second number? ('quit' to end program): \")\n",
        "        if num2 == \"quit\":\n",
        "            break\n",
        "\n",
        "        num1 = int(num1)\n",
        "        num2 = int(num2)\n",
        "        functions.sum_and_sorted(num1, num2)\n",
        "\n",
        "    return\n",
        "\n",
        "def makeShirt():\n",
        "    text = input(\"What text would you like to print in the shirt?: \")\n",
        "    size = input(\"What shirt size do you want to order? (For default size L, hit Enter)\\n\")\n",
        "\n",
        "    if size:\n",
        "        functions.make_shirt(text, size)\n",
        "    else:\n",
        "        functions.make_shirt(text)\n",
        "\n",
        "infinite_sum()\n",
        "print(\"\\n\")\n",
        "makeShirt()"
      ]
    }
  ]
}