{
  "nbformat": 4,
  "nbformat_minor": 0,
  "metadata": {
    "colab": {
      "provenance": [],
      "authorship_tag": "ABX9TyOBr2y8NKn667MGQYheFqQz",
      "include_colab_link": true
    },
    "kernelspec": {
      "name": "python3",
      "display_name": "Python 3"
    },
    "language_info": {
      "name": "python"
    }
  },
  "cells": [
    {
      "cell_type": "markdown",
      "metadata": {
        "id": "view-in-github",
        "colab_type": "text"
      },
      "source": [
        "<a href=\"https://colab.research.google.com/github/Mstew007/CSC221__Mstew007/blob/main/Assignment10_1.ipynb\" target=\"_parent\"><img src=\"https://colab.research.google.com/assets/colab-badge.svg\" alt=\"Open In Colab\"/></a>"
      ]
    },
    {
      "cell_type": "code",
      "execution_count": 14,
      "metadata": {
        "colab": {
          "base_uri": "https://localhost:8080/"
        },
        "id": "PcuRhgtzKz2X",
        "outputId": "0fab5363-3f9b-44a7-c26f-53f1fdaf2ea2"
      },
      "outputs": [
        {
          "output_type": "stream",
          "name": "stdout",
          "text": [
            "Parameters: num1 = 6 num2 = 9\n",
            "Sum: 15\n",
            "Sorted Numbers: [6, 9]\n",
            "Parameters: num1 = 8 num2 = 3.141592653589793\n",
            "Sum: 11.141592653589793\n",
            "Sorted Numbers: [3.141592653589793, 8]\n",
            "Parameters: num1 = 6 num2 = 9\n",
            "Sum: 15\n",
            "Sorted Numbers: [6, 9]\n",
            "Parameters: num1 = 8 num2 = 3.141592653589793\n",
            "Sum: 11.141592653589793\n",
            "Sorted Numbers: [3.141592653589793, 8]\n"
          ]
        }
      ],
      "source": [
        "#number 4\n",
        "import math\n",
        "\n",
        "def two_numbers(num1, num2=math.pi, verbose=False):\n",
        "    total = num1 + num2\n",
        "\n",
        "    sorted_list = sorted([num1, num2])\n",
        "\n",
        "    if verbose:\n",
        "        print(\"Parameters: num1 =\", num1, \"num2 =\", num2)\n",
        "        print(\"Sum:\", total)\n",
        "        print(\"Sorted Numbers:\", sorted_list)\n",
        "\n",
        "    return total, sorted_list\n",
        "\n",
        "result1 = two_numbers(6, 9, verbose=True)\n",
        "result2 = two_numbers(8, verbose=True)\n",
        "\n",
        "if __name__ == '__main__':\n",
        "  two_numbers(6, 9, verbose=True)\n",
        "  two_numbers(8, verbose=True)"
      ]
    }
  ]
}