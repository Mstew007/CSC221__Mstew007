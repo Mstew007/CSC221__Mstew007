{
  "nbformat": 4,
  "nbformat_minor": 0,
  "metadata": {
    "colab": {
      "provenance": [],
      "authorship_tag": "ABX9TyOzKxVN4x13fV94MCznHpHh",
      "include_colab_link": true
    },
    "kernelspec": {
      "name": "python3",
      "display_name": "Python 3"
    },
    "language_info": {
      "name": "python"
    }
  },
  "cells": [
    {
      "cell_type": "markdown",
      "metadata": {
        "id": "view-in-github",
        "colab_type": "text"
      },
      "source": [
        "<a href=\"https://colab.research.google.com/github/Mstew007/CSC221__Mstew007/blob/main/Assignment10_1.ipynb\" target=\"_parent\"><img src=\"https://colab.research.google.com/assets/colab-badge.svg\" alt=\"Open In Colab\"/></a>"
      ]
    },
    {
      "cell_type": "code",
      "execution_count": 2,
      "metadata": {
        "id": "PcuRhgtzKz2X",
        "colab": {
          "base_uri": "https://localhost:8080/"
        },
        "outputId": "f8a03290-4f70-4b13-e6da-c9e7013b7a10"
      },
      "outputs": [
        {
          "output_type": "stream",
          "name": "stdout",
          "text": [
            "The shirt is a size L\n",
            "We will print this text on the shirt: I hate C++\n",
            "The shirt is a size L\n",
            "We will print this text on the shirt: No Snacks? IM OUT\n",
            "The shirt is a size L\n",
            "We will print this text on the shirt: I love Python\n",
            "The shirt is a size M\n",
            "We will print this text on the shirt: I love Python\n",
            "The shirt is a size XL\n",
            "We will print this text on the shirt: Pyhton > C++\n",
            "The sum of 15 and 3.141592653589793 is: 18.141592653589793\n",
            "The sum of 23 and 2 is: 25\n",
            "The sum of 4 and 3 is: 7\n",
            "\n",
            "Verbose=True\n",
            "num1=4\n",
            "num2=3\n",
            "Sum: 7\n",
            "Sorted: [3, 4]\n"
          ]
        }
      ],
      "source": [
        "#Matt Stewart\n",
        "#assignment 10 pt.2\n",
        "def sum_and_sorted(num1, num2=3.141592653589793, verbose=False):\n",
        "    total = num1 + num2\n",
        "    sort_num = sorted([num1, num2])\n",
        "\n",
        "    print(f\"The sum of {num1} and {num2} is: {total}\")\n",
        "\n",
        "    if verbose:\n",
        "        print(f\"\\nVerbose=True\\n{num1=}\\n{num2=}\\nSum: {total}\\nSorted: {sort_num}\")\n",
        "\n",
        "def make_shirt(text, size=\"L\"):\n",
        "  print(f\"The shirt is a size {size}\")\n",
        "  print(f\"We will print this text on the shirt: {text}\")\n",
        "\n",
        "if __name__ == '__main__':\n",
        "    make_shirt(\"I hate C++\", \"L\")\n",
        "    make_shirt(size=\"L\", text=\"No Snacks? IM OUT\")\n",
        "    make_shirt(\"I love Python\")\n",
        "    make_shirt(\"I love Python\", \"M\")\n",
        "    make_shirt(\"Pyhton > C++\", \"XL\")\n",
        "\n",
        "    sum_and_sorted(15)\n",
        "    sum_and_sorted(23, 2)\n",
        "    sum_and_sorted(4, 3, True)"
      ]
    },
    {
      "cell_type": "markdown",
      "source": [
        "import functions\n",
        "\n",
        "def infinite_sum():\n",
        "    while True:\n",
        "        num1 = input(\"Give me your first number? ('quit' to end program): \")\n",
        "        if num1 == \"quit\":\n",
        "            break\n",
        "\n",
        "        num2 = input(\"Give me your second number? ('quit' to end program): \")\n",
        "        if num2 == \"quit\":\n",
        "            break\n",
        "        \n",
        "        num1 = int(num1)\n",
        "        num2 = int(num2)\n",
        "        functions.sum_and_sorted(num1, num2)\n",
        "    \n",
        "    return\n",
        "\n",
        "def makeShirt():\n",
        "    text = input(\"What text would you like to print in the shirt?: \")\n",
        "    size = input(\"What shirt size do you want to order? (For default size L, hit Enter)\\n\")\n",
        "\n",
        "    if size:\n",
        "        functions.make_shirt(text, size)\n",
        "    else:\n",
        "        functions.make_shirt(text)\n",
        "\n",
        "infinite_sum()\n",
        "print(\"\\n\")\n",
        "makeShirt()"
      ],
      "metadata": {
        "id": "brOPlny0G31T"
      }
    }
  ]
}