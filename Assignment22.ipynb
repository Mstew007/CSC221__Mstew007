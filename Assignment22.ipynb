{
  "nbformat": 4,
  "nbformat_minor": 0,
  "metadata": {
    "colab": {
      "provenance": [],
      "authorship_tag": "ABX9TyNyIzk8IDYAnClWASGcEN59",
      "include_colab_link": true
    },
    "kernelspec": {
      "name": "python3",
      "display_name": "Python 3"
    },
    "language_info": {
      "name": "python"
    }
  },
  "cells": [
    {
      "cell_type": "markdown",
      "metadata": {
        "id": "view-in-github",
        "colab_type": "text"
      },
      "source": [
        "<a href=\"https://colab.research.google.com/github/Mstew007/CSC221__Mstew007/blob/main/Assignment22.ipynb\" target=\"_parent\"><img src=\"https://colab.research.google.com/assets/colab-badge.svg\" alt=\"Open In Colab\"/></a>"
      ]
    },
    {
      "cell_type": "code",
      "execution_count": 1,
      "metadata": {
        "colab": {
          "base_uri": "https://localhost:8080/"
        },
        "id": "iUakCvEIEp5x",
        "outputId": "dab31676-d31b-4f84-f99e-1613510fa39c"
      },
      "outputs": [
        {
          "output_type": "stream",
          "name": "stdout",
          "text": [
            "Original Vectors:\n",
            "(3, 4)\n",
            "(-1, 2)\n",
            "(0, 0)\n",
            "(5, -1)\n",
            "\n",
            "Sorted Vectors by Length:\n",
            "(0, 0)\n",
            "(-1, 2)\n",
            "(3, 4)\n",
            "(5, -1)\n",
            "Original Vectors:\n",
            "(3, 4)\n",
            "(-1, 2)\n",
            "(0, 0)\n",
            "(5, -1)\n",
            "\n",
            "Sorted Vectors by Euclidean Length:\n",
            "(0, 0)\n",
            "(-1, 2)\n",
            "(5, -1)\n",
            "(3, 4)\n",
            "Length of 'apple': 5\n",
            "Length of 'banana': 6\n",
            "Length of 'carrot': 6\n",
            "Length of the container: 3\n"
          ]
        }
      ],
      "source": [
        "# Matt Stewart\n",
        "# Assignment 22\n",
        "\n",
        "#Make a class Vector2D that stores a 2D vector (x,y) and allows me to print them and sort them by length.\n",
        "import math\n",
        "\n",
        "class Vector2D:\n",
        "    def __init__(self, x, y):\n",
        "        self.x = x\n",
        "        self.y = y\n",
        "    def __repr__(self):\n",
        "        return f\"Vector2D({self.x}, {self.y})\"\n",
        "    def __str__(self):\n",
        "        return f\"({self.x}, {self.y})\"\n",
        "    def __lt__(self, other):\n",
        "        return self.length() < other.length()\n",
        "    def length(self):\n",
        "        return math.sqrt(self.x**2 + self.y**2)\n",
        "\n",
        "vectors = [\n",
        "    Vector2D(3, 4),\n",
        "    Vector2D(-1, 2),\n",
        "    Vector2D(0, 0),\n",
        "    Vector2D(5, -1)\n",
        "]\n",
        "\n",
        "print(\"Original Vectors:\")\n",
        "for vector in vectors:\n",
        "    print(vector)\n",
        "sorted_vectors = sorted(vectors)\n",
        "print(\"\\nSorted Vectors by Length:\")\n",
        "for vector in sorted_vectors:\n",
        "    print(vector)\n",
        "\n",
        "#Modify the above code to sort by Euclidean length... just the sum of x and y.\n",
        "class Vector2D:\n",
        "    def __init__(self, x, y):\n",
        "        self.x = x\n",
        "        self.y = y\n",
        "    def __repr__(self):\n",
        "        return f\"Vector2D({self.x}, {self.y})\"\n",
        "    def __str__(self):\n",
        "        return f\"({self.x}, {self.y})\"\n",
        "    def __lt__(self, other):\n",
        "        return (self.x + self.y) < (other.x + other.y)\n",
        "\n",
        "vectors = [\n",
        "    Vector2D(3, 4),\n",
        "    Vector2D(-1, 2),\n",
        "    Vector2D(0, 0),\n",
        "    Vector2D(5, -1)\n",
        "]\n",
        "\n",
        "\n",
        "print(\"Original Vectors:\")\n",
        "for vector in vectors:\n",
        "    print(vector)\n",
        "sorted_vectors = sorted(vectors)\n",
        "print(\"\\nSorted Vectors by Euclidean Length:\")\n",
        "for vector in sorted_vectors:\n",
        "    print(vector)\n",
        "\n",
        "#Make a class that implements the container protocol such that the class returns the length of the key for any key\n",
        "class KeyLengthContainer:\n",
        "    def __init__(self):\n",
        "        self.key_values = {}\n",
        "    def __getitem__(self, key):\n",
        "        return len(key)\n",
        "    def __setitem__(self, key, value):\n",
        "        self.key_values[key] = value\n",
        "    def __delitem__(self, key):\n",
        "        del self.key_values[key]\n",
        "    def __len__(self):\n",
        "        return len(self.key_values)\n",
        "\n",
        "key_container = KeyLengthContainer()\n",
        "key_container['apple'] = 'fruit'\n",
        "key_container['banana'] = 'fruit'\n",
        "key_container['carrot'] = 'vegetable'\n",
        "\n",
        "print(\"Length of 'apple':\", key_container['apple'])\n",
        "print(\"Length of 'banana':\", key_container['banana'])\n",
        "print(\"Length of 'carrot':\", key_container['carrot'])\n",
        "print(\"Length of the container:\", len(key_container))\n",
        "\n"
      ]
    }
  ]
}