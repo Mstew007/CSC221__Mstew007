{
  "nbformat": 4,
  "nbformat_minor": 0,
  "metadata": {
    "colab": {
      "provenance": [],
      "authorship_tag": "ABX9TyOsOO+K9vVEAvtPuVgQEAVc",
      "include_colab_link": true
    },
    "kernelspec": {
      "name": "python3",
      "display_name": "Python 3"
    },
    "language_info": {
      "name": "python"
    }
  },
  "cells": [
    {
      "cell_type": "markdown",
      "metadata": {
        "id": "view-in-github",
        "colab_type": "text"
      },
      "source": [
        "<a href=\"https://colab.research.google.com/github/Mstew007/CSC221__Mstew007/blob/main/Assignment16_17.ipynb\" target=\"_parent\"><img src=\"https://colab.research.google.com/assets/colab-badge.svg\" alt=\"Open In Colab\"/></a>"
      ]
    },
    {
      "cell_type": "code",
      "execution_count": 1,
      "metadata": {
        "colab": {
          "base_uri": "https://localhost:8080/"
        },
        "id": "TcGOQ10gp5RR",
        "outputId": "2cfcf1d3-da88-4b48-b400-58dda3e15bea"
      },
      "outputs": [
        {
          "output_type": "stream",
          "name": "stdout",
          "text": [
            "Hello World\n"
          ]
        },
        {
          "output_type": "execute_result",
          "data": {
            "text/plain": [
              "645"
            ]
          },
          "metadata": {},
          "execution_count": 1
        }
      ],
      "source": [
        "# Matthew Stewart\n",
        "# Assignment 16\n",
        "\n",
        "#1.1\n",
        "print(\"Hello World\")\n",
        "500 + 45 + 100"
      ]
    },
    {
      "cell_type": "code",
      "source": [
        "#1.3\n",
        "print(type(42))\n",
        "print(type(4.2))\n",
        "print(type(\"forty-two\"))\n",
        "print(type(True))\n",
        "\n",
        "x = int = 42\n",
        "print(x)"
      ],
      "metadata": {
        "colab": {
          "base_uri": "https://localhost:8080/"
        },
        "id": "t-Zuu83lp-hC",
        "outputId": "39229ad4-e836-401a-8527-eb8ccacf9ce9"
      },
      "execution_count": 2,
      "outputs": [
        {
          "output_type": "stream",
          "name": "stdout",
          "text": [
            "<class 'int'>\n",
            "<class 'float'>\n",
            "<class 'str'>\n",
            "<class 'bool'>\n",
            "42\n"
          ]
        }
      ]
    },
    {
      "cell_type": "code",
      "source": [
        "#1.4\n",
        "principal = 1000\n",
        "rate = 0.05\n",
        "numyears = 5\n",
        "year = 1\n",
        "while year <= numyears:\n",
        "  principal = principal * (1 + rate)\n",
        "  print(year, principal)\n",
        "  year += 1"
      ],
      "metadata": {
        "colab": {
          "base_uri": "https://localhost:8080/"
        },
        "id": "kdOoFM2GqA36",
        "outputId": "bdea5134-f7f3-4bef-bf05-c77bc4b41f4f"
      },
      "execution_count": 4,
      "outputs": [
        {
          "output_type": "stream",
          "name": "stdout",
          "text": [
            "1 1050.0\n",
            "2 1102.5\n",
            "3 1157.625\n",
            "4 1215.5062500000001\n",
            "5 1276.2815625000003\n"
          ]
        }
      ]
    },
    {
      "cell_type": "code",
      "source": [
        "#1.5\n",
        "a = 3\n",
        "b = 5\n",
        "suffix = '.png'\n",
        "\n",
        "if a < b:\n",
        "  print('Computer says Yes')\n",
        "else:\n",
        "  print('Computer says No')\n",
        "\n",
        "if a < b:\n",
        "  pass\n",
        "else:\n",
        "  print('Computer says No')\n",
        "\n",
        "if suffix == '.htm':\n",
        "  content = 'text/html'\n",
        "elif suffix == '.jpg':\n",
        "  content = 'image/jpeg'\n",
        "elif suffix == '.png':\n",
        "  content = 'image/png'\n",
        "else:\n",
        "  raise RuntimeError(f'Unknown content type {suffix!r}')\n",
        "\n",
        "maxval = a if a > b else b\n",
        "\n",
        "if a > b:\n",
        "  maxval = a\n",
        "else:\n",
        "  maxval = b\n",
        "\n",
        "x = 0\n",
        "while x < 10:\n",
        "  x += 1\n",
        "  if x == 5:\n",
        "      continue\n",
        "  print(x)\n",
        "\n",
        "print('Done')"
      ],
      "metadata": {
        "colab": {
          "base_uri": "https://localhost:8080/"
        },
        "id": "LMNfyw3uqDaz",
        "outputId": "4bef9d54-bbcf-4663-deb5-a376dd333906"
      },
      "execution_count": 5,
      "outputs": [
        {
          "output_type": "stream",
          "name": "stdout",
          "text": [
            "Computer says Yes\n",
            "1\n",
            "2\n",
            "3\n",
            "4\n",
            "6\n",
            "7\n",
            "8\n",
            "9\n",
            "10\n",
            "Done\n"
          ]
        }
      ]
    },
    {
      "cell_type": "code",
      "source": [
        "#1.8\n",
        "with open('data.txt') as file:\n",
        "    for line in file:\n",
        "        print(line, end='')\n",
        "\n",
        "file = open('data.txt')\n",
        "for line in file:\n",
        "    print(line, end='')\n",
        "file.close()\n",
        "\n",
        "with open('data.txt') as file:\n",
        "    data = file.read()\n",
        "\n",
        "with open('data.txt') as file:\n",
        "    while (chunk := file.read(10000)):\n",
        "        print(chunk, end='')\n",
        "\n",
        "with open('data.txt') as file:\n",
        "    while True:\n",
        "        chunk = file.read(10000)\n",
        "        if not chunk:\n",
        "            break\n",
        "        print(chunk, end='')\n",
        "\n",
        "with open('out.txt', 'wt') as out:\n",
        "    while year <= numyears:\n",
        "        principal = principal * (1 + rate)\n",
        "        print(f'{year:>3d} {principal:0.2f}', file=out)\n",
        "        year += 1\n",
        "\n",
        "with open('data.txt', encoding='latin-1') as file:\n",
        "    data = file.read()\n",
        "\n",
        "name = input('Enter your name: ')\n",
        "print('Hello', name)"
      ],
      "metadata": {
        "colab": {
          "base_uri": "https://localhost:8080/"
        },
        "id": "MxK6lSexqJdT",
        "outputId": "546585d8-6109-436e-b2eb-51bda7627b36"
      },
      "execution_count": 7,
      "outputs": [
        {
          "output_type": "stream",
          "name": "stdout",
          "text": [
            "hi\n",
            "hi\n",
            "hi\n",
            "hi\n",
            "Enter your name: quit\n",
            "Hello quit\n"
          ]
        }
      ]
    },
    {
      "cell_type": "code",
      "source": [
        "#1.9\n",
        "holding = ('GOOG', 100, 490.10)\n",
        "address = ('www.python.org', 80)\n",
        "\n",
        "a = ()\n",
        "b = (0)\n",
        "\n",
        "name, shares, price = holding\n",
        "host, port = address\n",
        "\n",
        "filename = 'portfolio.csv'\n",
        "portfolio = []\n",
        "\n",
        "with open(filename) as file:\n",
        "    for line in file:\n",
        "        row = line.split(',')\n",
        "        name = row[0]\n",
        "        shares = int(row[1])\n",
        "        price = float(row[2])\n",
        "        holding = (name, shares, price)\n",
        "        portfolio.append(holding)"
      ],
      "metadata": {
        "id": "DHmTk6M_tTw9"
      },
      "execution_count": 14,
      "outputs": []
    },
    {
      "cell_type": "code",
      "source": [
        "#1.10\n",
        "names1 = {'IBM', 'MSFT', 'AA'}\n",
        "names2 = set(['IBM', 'MSFT', 'HPE', 'IBM', 'CAT'])\n",
        "\n",
        "portfolio = ['GOOG', 'AAPL', 'AMZN', 'TSLA']\n",
        "\n",
        "names = {s[0] for s in portfolio}\n",
        "\n",
        "r = set()\n",
        "t = set()\n",
        "s = set()\n",
        "\n",
        "a = t | s\n",
        "b = t & s\n",
        "c = t - s\n",
        "d = s - t\n",
        "e = t ^ s\n",
        "\n",
        "t.add('DIS')\n",
        "if 'IBM' in t:\n",
        "    t.remove('IBM')\n",
        "s.update({'JJ', 'GE', 'ACME'})\n",
        "s.discard('SCOX')\n",
        "\n"
      ],
      "metadata": {
        "id": "4zhO6Ffft7Ki"
      },
      "execution_count": 21,
      "outputs": []
    },
    {
      "cell_type": "code",
      "source": [
        "#1.12\n",
        "s = {\n",
        "    'name': 'GOOG',\n",
        "    'shares': 100,\n",
        "    'price': 490.10\n",
        "}\n",
        "\n",
        "name = s['name']\n",
        "cost = s['shares'] * s['price']\n",
        "\n",
        "s['shares'] = 75\n",
        "s['date'] = '2007-06-07'\n",
        "\n",
        "prices = {\n",
        "    'GOOG': 490.1,\n",
        "    'AAPL': 123.5,\n",
        "    'IBM': 91.5,\n",
        "    'MSFT': 52.13\n",
        "}\n",
        "\n",
        "p = prices.get('IBM', 0.0)\n",
        "\n",
        "del prices['GOOG']\n",
        "\n",
        "prices = {}\n",
        "\n",
        "prices[('IBM', '2015-02-03')] = 91.23\n",
        "prices['IBM', '2015-02-04'] = 91.42\n",
        "\n",
        "portfolio = [\n",
        "    ('ACME', 50, 92.34),\n",
        "    ('IBM', 75, 102.25),\n",
        "    ('PHP', 40, 74.50),\n",
        "    ('IBM', 50, 124.75)\n",
        "]\n",
        "\n",
        "total_shares = {s[0]: 0 for s in portfolio}\n",
        "for name, shares, _ in portfolio:\n",
        "    total_shares[name] += shares\n",
        "\n",
        "from collections import Counter\n",
        "total_shares = Counter()\n",
        "for name, shares, _ in portfolio:\n",
        "    total_shares[name] += shares\n",
        "\n",
        "prices = {}\n",
        "prices = dict()\n",
        "\n",
        "pairs = [('IBM', 125), ('ACME', 50), ('PHP', 40)]\n",
        "d = dict(pairs)\n",
        "\n",
        "syms = list(prices)\n",
        "\n",
        "syms = prices.keys()\n",
        "\n",
        "for sym, price in prices.items():\n",
        "    print(f'{sym} = {price}')\n"
      ],
      "metadata": {
        "id": "8_v9j7Q-vRPB"
      },
      "execution_count": 23,
      "outputs": []
    },
    {
      "cell_type": "code",
      "source": [
        "#1.14\n",
        "\n",
        "def process(line):\n",
        "    row = line.split(' , ')\n",
        "    try:\n",
        "        name = row[0]\n",
        "        shares = int(row[1])\n",
        "        price = float(row[2])\n",
        "        holding = (name, shares, price)\n",
        "        portfolio.append(holding)\n",
        "    except ValueError as err:\n",
        "        print('Invalid Row:', row)\n",
        "        print('Reason:', err)\n",
        "        raise RuntimeError('Computer says no')\n",
        "\n",
        "portfolio = []\n",
        "\n",
        "with open('portfolio.csv') as file:\n",
        "    for line in file:\n",
        "        process(line)"
      ],
      "metadata": {
        "id": "4uRow1h-yt_1"
      },
      "execution_count": 27,
      "outputs": []
    },
    {
      "cell_type": "code",
      "source": [
        "#1.15\n",
        "raise SystemExit()\n",
        "raise SystemExit(\"Something is wrong\")\n",
        "\n",
        "def cleanup():\n",
        "    print(\"Going away...\")\n",
        "    close_connection(connection)\n",
        "\n",
        "connection = open_connection(\"deaddot.com\")\n",
        "atexit.register(cleanup)\n"
      ],
      "metadata": {
        "id": "3bYLLM110qk0"
      },
      "execution_count": null,
      "outputs": []
    },
    {
      "cell_type": "code",
      "source": [
        "1.17\n",
        "import csv\n",
        "\n",
        "def read_portfolio(filename):\n",
        "    portfolio = []\n",
        "    with open(filename) as file:\n",
        "        rows = csv.reader(file)\n",
        "        for row in rows:\n",
        "            try:\n",
        "                name = row[0]\n",
        "                shares = int(row[1])\n",
        "                price = float(row[2])\n",
        "                holding = (name, shares, price)\n",
        "                portfolio.append(holding)\n",
        "            except ValueError as err:\n",
        "                print('Bad row:', row)\n",
        "                print('Reason:', err)\n",
        "\n",
        "    return portfolio\n",
        "\n",
        "def portfolio_cost(filename):\n",
        "\n",
        "    port = read_portfolio(filename)\n",
        "    return sum(shares * price for _, shares, price in port)\n"
      ],
      "metadata": {
        "id": "NytGUpiQ0rZg"
      },
      "execution_count": 36,
      "outputs": []
    },
    {
      "cell_type": "code",
      "source": [
        "#1.18\n",
        "import csv\n",
        "\n",
        "def read_portfolio(filename):\n",
        "\n",
        "  def main():\n",
        "    portfolio = read_portfolio('portfolio.csv')\n",
        "    for name, shares, price in portfolio:\n",
        "        print(f'{name:>10s} {shares:10d} {price:10.2f}')\n",
        "\n",
        "def main(argv):\n",
        "    if len(argv) == 1:\n",
        "        filename = input('Enter filename: ')\n",
        "    elif len(argv) == 2:\n",
        "        filename = argv[1]\n",
        "    else:\n",
        "        raise SystemExit(f'Usage: {argv[0]} [ filename ]')\n",
        "\n",
        "    portfolio = read_portfolio(filename)\n",
        "    for name, shares, price in portfolio:\n",
        "        print(f'{name:>10s} {shares:10d} {price:10.2f}')\n",
        "\n",
        "if __name__ == '__main__':\n",
        "    import sys\n",
        "    main(sys.argv)\n",
        "\n"
      ],
      "metadata": {
        "id": "KNx4Mzi831TL"
      },
      "execution_count": null,
      "outputs": []
    },
    {
      "cell_type": "code",
      "source": [
        "#1.20\n",
        "tutorial-project/\n",
        "    tutorial/\n",
        "        __init__.py\n",
        "        readport.py\n",
        "        pcost.py\n",
        "        stack.py\n",
        "    tests/\n",
        "        test_stack.py\n",
        "        test_pcost.py\n",
        "    examples/\n",
        "        sample.py\n",
        "    doc/\n",
        "        tutorial.txt\n"
      ],
      "metadata": {
        "id": "J043hujq3_Su"
      },
      "execution_count": 44,
      "outputs": []
    },
    {
      "cell_type": "code",
      "source": [
        "#1.21\n",
        "bash % python3 -m venv myproject\n",
        "\n",
        "bash % ./myproject/bin/python3 -m pip install somepackage"
      ],
      "metadata": {
        "id": "amdf82_x4YEt"
      },
      "execution_count": null,
      "outputs": []
    }
  ]
}