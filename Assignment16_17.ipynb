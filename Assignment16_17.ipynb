{
  "cells": [
    {
      "cell_type": "markdown",
      "metadata": {
        "id": "view-in-github",
        "colab_type": "text"
      },
      "source": [
        "<a href=\"https://colab.research.google.com/github/Mstew007/CSC221__Mstew007/blob/main/Assignment16_17.ipynb\" target=\"_parent\"><img src=\"https://colab.research.google.com/assets/colab-badge.svg\" alt=\"Open In Colab\"/></a>"
      ]
    },
    {
      "cell_type": "code",
      "execution_count": null,
      "metadata": {
        "colab": {
          "base_uri": "https://localhost:8080/"
        },
        "id": "KWL3T02DSE_I",
        "outputId": "655feb6d-1164-488b-9073-569352847105"
      },
      "outputs": [
        {
          "name": "stdout",
          "output_type": "stream",
          "text": [
            "Hello World\n"
          ]
        },
        {
          "data": {
            "text/plain": [
              "645"
            ]
          },
          "execution_count": 10,
          "metadata": {},
          "output_type": "execute_result"
        }
      ],
      "source": [
        "# Matthew Stewart\n",
        "# Assignment 16\n",
        "\n",
        "#1.1\n",
        "print(\"Hello World\")\n",
        "500 + 45 + 100\n"
      ]
    },
    {
      "cell_type": "code",
      "execution_count": null,
      "metadata": {
        "colab": {
          "base_uri": "https://localhost:8080/"
        },
        "id": "eKF_k325Twhi",
        "outputId": "8d9e8857-9b3e-4203-de51-8ce0bda1af5a"
      },
      "outputs": [
        {
          "name": "stdout",
          "output_type": "stream",
          "text": [
            "<class 'int'>\n",
            "<class 'float'>\n",
            "<class 'str'>\n",
            "<class 'bool'>\n",
            "42\n"
          ]
        }
      ],
      "source": [
        "#1.3\n",
        "print(type(42))\n",
        "print(type(4.2))\n",
        "print(type(\"forty-two\"))\n",
        "print(type(True))\n",
        "\n",
        "x = int = 42\n",
        "print(x)"
      ]
    },
    {
      "cell_type": "code",
      "execution_count": null,
      "metadata": {
        "colab": {
          "base_uri": "https://localhost:8080/"
        },
        "id": "sOahPCx6T-Hp",
        "outputId": "edf45801-f208-4860-c04f-93305014e02e"
      },
      "outputs": [
        {
          "name": "stdout",
          "output_type": "stream",
          "text": [
            "1 1050.0\n",
            "2 1102.5\n",
            "3 1157.625\n",
            "4 1215.5062500000001\n",
            "5 1276.2815625000003\n"
          ]
        }
      ],
      "source": [
        "#1.4\n",
        "principal = 1000\n",
        "rate = 0.05\n",
        "numyears = 5\n",
        "year = 1\n",
        "while year <= numyears:\n",
        "  principal = principal * (1 + rate)\n",
        "  print(year, principal)\n",
        "  year += 1"
      ]
    },
    {
      "cell_type": "code",
      "execution_count": null,
      "metadata": {
        "colab": {
          "base_uri": "https://localhost:8080/"
        },
        "id": "L0YjerO8Upnq",
        "outputId": "bedc93a0-1a59-40d1-ce6e-f04feba1f8a8"
      },
      "outputs": [
        {
          "name": "stdout",
          "output_type": "stream",
          "text": [
            "Computer says Yes\n",
            "1\n",
            "2\n",
            "3\n",
            "4\n",
            "6\n",
            "7\n",
            "8\n",
            "9\n",
            "10\n",
            "Done\n"
          ]
        }
      ],
      "source": [
        "#1.5\n",
        "a = 3\n",
        "b = 5\n",
        "suffix = '.png'\n",
        "\n",
        "if a < b:\n",
        "  print('Computer says Yes')\n",
        "else:\n",
        "  print('Computer says No')\n",
        "\n",
        "if a < b:\n",
        "  pass\n",
        "else:\n",
        "  print('Computer says No')\n",
        "\n",
        "if suffix == '.htm':\n",
        "  content = 'text/html'\n",
        "elif suffix == '.jpg':\n",
        "  content = 'image/jpeg'\n",
        "elif suffix == '.png':\n",
        "  content = 'image/png'\n",
        "else:\n",
        "  raise RuntimeError(f'Unknown content type {suffix!r}')\n",
        "\n",
        "maxval = a if a > b else b\n",
        "\n",
        "if a > b:\n",
        "  maxval = a\n",
        "else:\n",
        "  maxval = b\n",
        "\n",
        "x = 0\n",
        "while x < 10:\n",
        "  x += 1\n",
        "  if x == 5:\n",
        "      continue\n",
        "  print(x)\n",
        "\n",
        "print('Done')\n"
      ]
    },
    {
      "cell_type": "code",
      "execution_count": null,
      "metadata": {
        "colab": {
          "base_uri": "https://localhost:8080/"
        },
        "id": "qJuM12FcemRS",
        "outputId": "10e4f059-8677-459f-cc4d-d3f622b90c89"
      },
      "outputs": [
        {
          "name": "stdout",
          "output_type": "stream",
          "text": [
            "Writing data.txt\n"
          ]
        }
      ],
      "source": [
        "%%file data.txt\n",
        "\n",
        "fejnef"
      ]
    },
    {
      "cell_type": "code",
      "execution_count": null,
      "metadata": {
        "colab": {
          "background_save": true,
          "base_uri": "https://localhost:8080/"
        },
        "id": "sgVcmFTdc0QR",
        "outputId": "9ea6d81e-d9cd-46fb-83da-1c51b1a0ad3f"
      },
      "outputs": [
        {
          "metadata": {
            "tags": null
          },
          "name": "stdout",
          "output_type": "stream",
          "text": [
            ".\n",
            ".\n",
            ".\n",
            ".\n"
          ]
        }
      ],
      "source": [
        "#1.8\n",
        "with open('data.txt') as file:\n",
        "    for line in file:\n",
        "        print(line, end='')\n",
        "\n",
        "file = open('data.txt')\n",
        "for line in file:\n",
        "    print(line, end='')\n",
        "file.close()\n",
        "\n",
        "with open('data.txt') as file:\n",
        "    data = file.read()\n",
        "\n",
        "with open('data.txt') as file:\n",
        "    while (chunk := file.read(10000)):\n",
        "        print(chunk, end='')\n",
        "\n",
        "with open('data.txt') as file:\n",
        "    while True:\n",
        "        chunk = file.read(10000)\n",
        "        if not chunk:\n",
        "            break\n",
        "        print(chunk, end='')\n",
        "\n",
        "with open('out.txt', 'wt') as out:\n",
        "    while year <= numyears:\n",
        "        principal = principal * (1 + rate)\n",
        "        print(f'{year:>3d} {principal:0.2f}', file=out)\n",
        "        year += 1\n",
        "\n",
        "with open('data.txt', encoding='latin-1') as file:\n",
        "    data = file.read()\n",
        "\n",
        "name = input('Enter your name: ')\n",
        "print('Hello', name)\n",
        "\n"
      ]
    }
  ],
  "metadata": {
    "colab": {
      "provenance": [],
      "authorship_tag": "ABX9TyMSdpHQ2NJavmgzq2h8VPg2",
      "include_colab_link": true
    },
    "kernelspec": {
      "display_name": "Python 3",
      "name": "python3"
    },
    "language_info": {
      "name": "python"
    }
  },
  "nbformat": 4,
  "nbformat_minor": 0
}