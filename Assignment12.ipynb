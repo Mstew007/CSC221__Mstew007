{
  "nbformat": 4,
  "nbformat_minor": 0,
  "metadata": {
    "colab": {
      "provenance": [],
      "authorship_tag": "ABX9TyNFM6yEeOYTa1kXprOEMRF7",
      "include_colab_link": true
    },
    "kernelspec": {
      "name": "python3",
      "display_name": "Python 3"
    },
    "language_info": {
      "name": "python"
    }
  },
  "cells": [
    {
      "cell_type": "markdown",
      "metadata": {
        "id": "view-in-github",
        "colab_type": "text"
      },
      "source": [
        "<a href=\"https://colab.research.google.com/github/Mstew007/CSC221__Mstew007/blob/main/Assignment12.ipynb\" target=\"_parent\"><img src=\"https://colab.research.google.com/assets/colab-badge.svg\" alt=\"Open In Colab\"/></a>"
      ]
    },
    {
      "cell_type": "code",
      "execution_count": 36,
      "metadata": {
        "colab": {
          "base_uri": "https://localhost:8080/"
        },
        "id": "uZRs85Cjbg4S",
        "outputId": "dda0e135-e455-40dc-b587-e68781dc7e3f"
      },
      "outputs": [
        {
          "output_type": "stream",
          "name": "stdout",
          "text": [
            "My Wallet Contains:\n",
            "$1.00 Bills x7\n",
            "$5.00 Bills x3\n",
            "$10.00 Bills x6\n",
            "$0.01 Coins x15\n",
            "$0.05 Coins x8\n",
            "$0.10 Coins x14\n",
            "$0.25 Coins x19\n",
            "\n",
            "The total amount of money in my wallet is: $88.70\n"
          ]
        }
      ],
      "source": [
        "class Money:\n",
        "    def __init__(self, value):\n",
        "        self.value = value\n",
        "    def __str__(self):\n",
        "        return f\"${self.value:.2f}\"\n",
        "\n",
        "class Bills(Money):\n",
        "    def __init__(self, value, quantity):\n",
        "        Money.__init__(self, value)\n",
        "        self.quantity = quantity\n",
        "    def __str__(self):\n",
        "        return f\"${self.value:.2f} Bills: {self.quantity}\"\n",
        "\n",
        "class Coins(Money):\n",
        "    def __init__(self, value, quantity):\n",
        "        Money.__init__(self, value)\n",
        "        self.quantity = quantity\n",
        "    def __str__(self):\n",
        "        return f\"${self.value:.2f} Coins: {self.quantity}\"\n",
        "\n",
        "class Ones(Bills):\n",
        "    def __init__(self, quantity):\n",
        "        Bills.__init__(self, 1, quantity)\n",
        "\n",
        "class Fives(Bills):\n",
        "    def __init__(self, quantity):\n",
        "        Bills.__init__(self, 5, quantity)\n",
        "\n",
        "class Tens(Bills):\n",
        "    def __init__(self, quantity):\n",
        "        Bills.__init__(self, 10, quantity)\n",
        "\n",
        "class Twenties(Bills):\n",
        "    def __init__(self, quantity):\n",
        "        Bills.__init__(self, 20, quantity)\n",
        "\n",
        "class Pennies(Coins):\n",
        "    def __init__(self, quantity):\n",
        "        Coins.__init__(self, 0.01, quantity)\n",
        "\n",
        "class Nickels(Coins):\n",
        "    def __init__(self, quantity):\n",
        "        Coins.__init__(self, 0.05, quantity)\n",
        "\n",
        "class Dimes(Coins):\n",
        "    def __init__(self, quantity):\n",
        "        Coins.__init__(self, 0.10, quantity)\n",
        "\n",
        "class Quarters(Coins):\n",
        "    def __init__(self, quantity):\n",
        "        Coins.__init__(self, 0.25, quantity)\n",
        "\n",
        "wallet = [One(7), Five(3), Ten(6), Penny(15), Nickel(8), Dime(14), Quarter(19)]\n",
        "\n",
        "print(\"My Wallet Contains:\")\n",
        "print_wallet(wallet)\n",
        "\n",
        "total = calculate_total(wallet)\n",
        "print(f\"\\nThe total amount of money in my wallet is: ${total:.2f}\")\n"
      ]
    }
  ]
}