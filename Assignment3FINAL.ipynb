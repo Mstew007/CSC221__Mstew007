{
  "nbformat": 4,
  "nbformat_minor": 0,
  "metadata": {
    "colab": {
      "provenance": [],
      "authorship_tag": "ABX9TyO6dLys7lZ+6v+PJOe3SKyT",
      "include_colab_link": true
    },
    "kernelspec": {
      "name": "python3",
      "display_name": "Python 3"
    },
    "language_info": {
      "name": "python"
    }
  },
  "cells": [
    {
      "cell_type": "markdown",
      "metadata": {
        "id": "view-in-github",
        "colab_type": "text"
      },
      "source": [
        "<a href=\"https://colab.research.google.com/github/Mstew007/CSC221__Mstew007/blob/main/Assignment3FINAL.ipynb\" target=\"_parent\"><img src=\"https://colab.research.google.com/assets/colab-badge.svg\" alt=\"Open In Colab\"/></a>"
      ]
    },
    {
      "cell_type": "code",
      "execution_count": 2,
      "metadata": {
        "colab": {
          "base_uri": "https://localhost:8080/"
        },
        "id": "kxIpah82TsX3",
        "outputId": "f23336a8-6f67-4978-8875-56bcac8632d7"
      },
      "outputs": [
        {
          "output_type": "stream",
          "name": "stdout",
          "text": [
            "matt Matt, would you like to learn some Python today?\n",
            "matt\n",
            "MATT\n",
            "Matt\n",
            "Martin Luther King Jr. most famous quote is \"\"Darkness cannot drive out darkness, only light can do that.\n",
            "Hate cannot drive out hate, only love can do that.\"\n",
            "Martin Luther King Jr. famous quote is \"\"Darkness cannot drive out darkness, only light can do that. Hate cannot drive out hate, only love can do that.\"\n",
            "Unmodified:\n",
            "\tMatt Stewart\n",
            "\n",
            "\n",
            "lstrip\n",
            "Matt Stewart\n",
            "\n",
            "\n",
            "rstrip\n",
            "\tMatt Stewart\n",
            "\n",
            "strip\n",
            "Matt Stewart\n",
            "8\n",
            "8\n",
            "8\n",
            "8.0\n",
            "My favorite number is 11.\n",
            "python_notes\n",
            "I love Python\n",
            "I love Coding\n",
            "matt Matt, would you like to learn some Python today?\n"
          ]
        }
      ],
      "source": [
        "#2.3\n",
        "name = \"matt\"\n",
        "msg = f\"matt {name.title()}, would you like to learn some Python today?\"\n",
        "\n",
        "print(msg)\n",
        "\n",
        "#2.4\n",
        "name = \"matt\"\n",
        "\n",
        "print(name.lower())\n",
        "print(name.upper())\n",
        "print(name.title())\n",
        "\n",
        "#2.5\n",
        "print('Martin Luther King Jr. most famous quote is \"\"Darkness cannot drive out darkness, only light can do that.')\n",
        "print('Hate cannot drive out hate, only love can do that.\"')\n",
        "\n",
        "#2.6\n",
        "famous_person = \"Martin Luther King Jr.\"\n",
        "\n",
        "message = f'{famous_person} famous quote is \"\"Darkness cannot drive out darkness, only light can do that. Hate cannot drive out hate, only love can do that.\"'\n",
        "\n",
        "print(message)\n",
        "\n",
        "#2.7\n",
        "name = \"\\tMatt Stewart\\n\"\n",
        "\n",
        "print(\"Unmodified:\")\n",
        "print(name)\n",
        "\n",
        "print(\"\\nlstrip\")\n",
        "print(name.lstrip())\n",
        "\n",
        "print(\"\\nrstrip\")\n",
        "print(name.rstrip())\n",
        "\n",
        "print(\"\\nstrip\")\n",
        "print(name.strip())\n",
        "\n",
        "#2.8\n",
        "filename = 'python_notes.txt'\n",
        "simple_filename = filename.removesuffix('.txt')\n",
        "\n",
        "#2.9\n",
        "print(5+3)\n",
        "print(11-3)\n",
        "print(2*4)\n",
        "print(64/8)\n",
        "\n",
        "#2.10\n",
        "favorite_number = 11\n",
        "msg = f\"My favorite number is {favorite_number}.\"\n",
        "\n",
        "print(msg)\n",
        "#2.11 done\n",
        "\n",
        "\n",
        "#msg print i love python and coding\n",
        "print(simple_filename)\n",
        "\n",
        "msg = \"I love Python\"\n",
        "print(msg)\n",
        "\n",
        "msg = \"I love Coding\"\n",
        "print(msg)\n",
        "\n",
        "#question\n",
        "name = \"matt\"\n",
        "msg = f\"matt {name.title()}, would you like to learn some Python today?\"\n",
        "\n",
        "print(msg)\n",
        "\n"
      ]
    }
  ]
}